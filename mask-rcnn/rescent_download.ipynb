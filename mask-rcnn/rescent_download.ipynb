{
 "cells": [
  {
   "cell_type": "markdown",
   "metadata": {},
   "source": [
    "01. Import Necessary Libraries"
   ]
  },
  {
   "cell_type": "code",
   "execution_count": 1,
   "metadata": {},
   "outputs": [],
   "source": [
    "import requests\n",
    "import os"
   ]
  },
  {
   "cell_type": "markdown",
   "metadata": {},
   "source": [
    "2. Define API Endpoint"
   ]
  },
  {
   "cell_type": "code",
   "execution_count": 2,
   "metadata": {},
   "outputs": [],
   "source": [
    "API_ENDPOINT = \"http://localhost:3000/download-latest\""
   ]
  },
  {
   "cell_type": "markdown",
   "metadata": {},
   "source": [
    "3. Define Local Directory to Save Images"
   ]
  },
  {
   "cell_type": "code",
   "execution_count": 3,
   "metadata": {},
   "outputs": [],
   "source": [
    "LOCAL_DIR = \"C:\\\\Users\\\\Akila Tharuka\\\\Desktop\\\\Final Project\\\\test_images\""
   ]
  },
  {
   "cell_type": "markdown",
   "metadata": {},
   "source": [
    "4. Function to Get Next Available Image Number"
   ]
  },
  {
   "cell_type": "code",
   "execution_count": 10,
   "metadata": {},
   "outputs": [],
   "source": [
    "def get_next_image_number(local_dir):\n",
    "    if not os.path.exists(local_dir):\n",
    "        os.makedirs(local_dir)\n",
    "    \n",
    "    files = [f for f in os.listdir(local_dir) if f.endswith('.jpg')]\n",
    "    \n",
    "    if not files:\n",
    "        return \"001\"\n",
    "    else:\n",
    "        last_image_numbers = [int(f.split('.')[0]) for f in files if f.split('.')[0].isdigit()]\n",
    "        if not last_image_numbers:\n",
    "            return \"001\"\n",
    "        else:\n",
    "            last_image_number = max(last_image_numbers)\n",
    "            next_image_number = str((last_image_number % 6) + 1).zfill(3)\n",
    "            return next_image_number"
   ]
  },
  {
   "cell_type": "markdown",
   "metadata": {},
   "source": [
    "5. Send Request to API and Download Image"
   ]
  },
  {
   "cell_type": "code",
   "execution_count": 17,
   "metadata": {},
   "outputs": [
    {
     "name": "stdout",
     "output_type": "stream",
     "text": [
      "Image downloaded successfully!\n"
     ]
    }
   ],
   "source": [
    "next_image_number = get_next_image_number(LOCAL_DIR)\n",
    "image_name = f\"{next_image_number}.jpg\"\n",
    "image_path = os.path.join(LOCAL_DIR, image_name)\n",
    "\n",
    "response = requests.get(API_ENDPOINT)\n",
    "if response.status_code == 200:\n",
    "    image_data = response.content\n",
    "    with open(image_path, 'wb') as f:\n",
    "        f.write(image_data)\n",
    "    print(\"Image downloaded successfully!\")\n",
    "else:\n",
    "    print(\"Failed to download image. Error:\", response.status_code)"
   ]
  }
 ],
 "metadata": {
  "kernelspec": {
   "display_name": "mask-rcnn",
   "language": "python",
   "name": "python3"
  },
  "language_info": {
   "codemirror_mode": {
    "name": "ipython",
    "version": 3
   },
   "file_extension": ".py",
   "mimetype": "text/x-python",
   "name": "python",
   "nbconvert_exporter": "python",
   "pygments_lexer": "ipython3",
   "version": "3.7.11"
  }
 },
 "nbformat": 4,
 "nbformat_minor": 2
}
